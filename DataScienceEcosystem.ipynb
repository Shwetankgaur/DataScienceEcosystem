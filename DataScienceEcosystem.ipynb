{
 "cells": [
  {
   "cell_type": "markdown",
   "id": "1b9e27ea-42eb-4712-bde2-05ce332f5b40",
   "metadata": {},
   "source": [
    "# Data Science Tools and Ecosystem"
   ]
  },
  {
   "cell_type": "markdown",
   "id": "9efe501d-c03f-455d-8164-2d07b6ca1beb",
   "metadata": {},
   "source": [
    "In this notebook, Data Science Tools and Ecosystem are summarized."
   ]
  },
  {
   "cell_type": "markdown",
   "id": "1b6df51e-d990-411a-b898-eddc4d95c93c",
   "metadata": {},
   "source": [
    "Some of the popular languages that Data Scientists use are:\n",
    "1. Python\n",
    "2. R\n",
    "3. SQL"
   ]
  },
  {
   "cell_type": "markdown",
   "id": "e14a7278-e0d7-476a-815d-197bee3211d6",
   "metadata": {},
   "source": [
    "Some of the commonly used libraries used by Data Scientists include:\n",
    "\n",
    "1. NumPy\n",
    "2. Matplotlib\n",
    "3. Scikit-learn\n",
    "4. Pandas"
   ]
  },
  {
   "cell_type": "markdown",
   "id": "3c9a20d4-f457-42d4-aa6e-63516f79256f",
   "metadata": {},
   "source": [
    "| Data Science Tools |\n",
    "| ------------------- |\n",
    "| Hadoop |\n",
    "| TensorFlow.js |\n",
    "| Jupyter Notebooks |\n",
    "| R Studio |"
   ]
  },
  {
   "cell_type": "markdown",
   "id": "dd15bcbe-d3fb-42e5-b329-e14dcfe7cc78",
   "metadata": {},
   "source": [
    "### Below are a few examples of evaluating arithmetic expressions in Python:-\n",
    "(7 - 6)\n",
    "(18*24)"
   ]
  },
  {
   "cell_type": "code",
   "execution_count": 1,
   "id": "f6c994c0-d43c-435a-8d13-72ef9dd89b10",
   "metadata": {},
   "outputs": [
    {
     "ename": "SyntaxError",
     "evalue": "invalid syntax (4009127285.py, line 1)",
     "output_type": "error",
     "traceback": [
      "\u001b[1;36m  Cell \u001b[1;32mIn[1], line 1\u001b[1;36m\u001b[0m\n\u001b[1;33m    **This a simple arithmetic expression to mutiply then add integers**\u001b[0m\n\u001b[1;37m    ^\u001b[0m\n\u001b[1;31mSyntaxError\u001b[0m\u001b[1;31m:\u001b[0m invalid syntax\n"
     ]
    }
   ],
   "source": [
    "**This a simple arithmetic expression to mutiply then add integers**\n",
    "num1 = 3\n",
    "num2 = 4\n",
    "num3 = 5\n",
    "expression_result = (num1 * num2) + num3"
   ]
  },
  {
   "cell_type": "markdown",
   "id": "d9bb9d75-20cb-4ea1-8609-b5da919f3a98",
   "metadata": {},
   "source": [
    "**This a simple arithmetic expression to mutiply then add integers**\n",
    "num1 = 3\n",
    "num2 = 4\n",
    "num3 = 5\n",
    "expression_result = (num1 * num2) + num3"
   ]
  },
  {
   "cell_type": "markdown",
   "id": "5a51fdf2-e85d-4f11-8abb-0600450e03cc",
   "metadata": {},
   "source": [
    "**This a simple arithmetic expression to mutiply then add integers**"
   ]
  },
  {
   "cell_type": "code",
   "execution_count": 2,
   "id": "b41f4cff-df33-4408-9d44-55b241fe76ec",
   "metadata": {},
   "outputs": [
    {
     "name": "stdout",
     "output_type": "stream",
     "text": [
      "Result: 17\n"
     ]
    }
   ],
   "source": [
    "num1 = 3\n",
    "num2 = 4\n",
    "num3 = 5\n",
    "expression_result = (num1 * num2) + num3\n",
    "print(\"Result:\", expression_result)\n"
   ]
  },
  {
   "cell_type": "markdown",
   "id": "98aa636c-6061-4983-9abc-c5ad55eec023",
   "metadata": {},
   "source": [
    " **This will convert 200 minutes to hours by diving by 60**"
   ]
  },
  {
   "cell_type": "code",
   "execution_count": 3,
   "id": "2a123111-72f5-4115-b8ec-b78e2038e89a",
   "metadata": {},
   "outputs": [
    {
     "ename": "NameError",
     "evalue": "name 'minute' is not defined",
     "output_type": "error",
     "traceback": [
      "\u001b[1;31m---------------------------------------------------------------------------\u001b[0m",
      "\u001b[1;31mNameError\u001b[0m                                 Traceback (most recent call last)",
      "Cell \u001b[1;32mIn[3], line 2\u001b[0m\n\u001b[0;32m      1\u001b[0m minutes \u001b[38;5;241m=\u001b[39m \u001b[38;5;241m200\u001b[39m\n\u001b[1;32m----> 2\u001b[0m hours \u001b[38;5;241m=\u001b[39m minute\u001b[38;5;241m/\u001b[39m\u001b[38;5;241m60\u001b[39m\n\u001b[0;32m      3\u001b[0m \u001b[38;5;28mprint\u001b[39m(\u001b[38;5;124m\"\u001b[39m\u001b[38;5;124m200 minutes is equal to\u001b[39m\u001b[38;5;124m\"\u001b[39m,hours,\u001b[38;5;124m\"\u001b[39m\u001b[38;5;124mhours\u001b[39m\u001b[38;5;124m\"\u001b[39m)\n",
      "\u001b[1;31mNameError\u001b[0m: name 'minute' is not defined"
     ]
    }
   ],
   "source": [
    "minutes = 200\n",
    "hours = minute/60\n",
    "print(\"200 minutes is equal to\",hours,\"hours\")"
   ]
  },
  {
   "cell_type": "code",
   "execution_count": 4,
   "id": "68096b3a-b7b5-485d-810a-394243ed106e",
   "metadata": {},
   "outputs": [
    {
     "name": "stdout",
     "output_type": "stream",
     "text": [
      "200 minutes is equal to 3.3333333333333335 hours\n"
     ]
    }
   ],
   "source": [
    "minutes = 200\n",
    "hours = minutes/60\n",
    "print(\"200 minutes is equal to\",hours,\"hours\")"
   ]
  },
  {
   "cell_type": "markdown",
   "id": "6a8ccef2-df80-401d-a15a-21332d54ddd7",
   "metadata": {},
   "source": [
    "**Objectives:**\n",
    "\n",
    "- List popular languages for Data Science.\n",
    "- List tools for data science.\n",
    "- List of data science libraries."
   ]
  },
  {
   "cell_type": "markdown",
   "id": "ebae6501-c1be-4f57-ad37-f3a0228c9ff1",
   "metadata": {},
   "source": [
    "## Author\n",
    "Shwetank Gaur"
   ]
  },
  {
   "cell_type": "code",
   "execution_count": null,
   "id": "03a3b260-0b08-4321-808f-d815e38ae07f",
   "metadata": {},
   "outputs": [],
   "source": []
  }
 ],
 "metadata": {
  "kernelspec": {
   "display_name": "Python 3 (ipykernel)",
   "language": "python",
   "name": "python3"
  },
  "language_info": {
   "codemirror_mode": {
    "name": "ipython",
    "version": 3
   },
   "file_extension": ".py",
   "mimetype": "text/x-python",
   "name": "python",
   "nbconvert_exporter": "python",
   "pygments_lexer": "ipython3",
   "version": "3.11.7"
  }
 },
 "nbformat": 4,
 "nbformat_minor": 5
}
